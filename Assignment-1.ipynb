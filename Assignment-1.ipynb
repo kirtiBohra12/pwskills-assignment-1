{
 "cells": [
  {
   "cell_type": "markdown",
   "id": "276aaf00-8814-4455-b61d-933d9ae72f23",
   "metadata": {},
   "source": [
    "# Assignment-1 \n",
    "(09 May Assignment)"
   ]
  },
  {
   "cell_type": "markdown",
   "id": "e906be4d-cbf7-49b4-b9c4-b5d55d090a58",
   "metadata": {},
   "source": [
    "**Q1.** Create one variable containing following type of data:<br>\n",
    "(i) string<br>\n",
    "(ii) list<br>\n",
    "(iii) float<br>\n",
    "(iv) tuple<br>"
   ]
  },
  {
   "cell_type": "markdown",
   "id": "b82d758b-d8ce-4c84-876b-f6acc49d901b",
   "metadata": {},
   "source": [
    "**Solution-1**"
   ]
  },
  {
   "cell_type": "code",
   "execution_count": 1,
   "id": "6798b978-5363-4e53-90ad-b5b821cc3d2c",
   "metadata": {},
   "outputs": [],
   "source": [
    "a = \"hello\"\n",
    "b = [1,2,3,\"hii\",4.2,True]\n",
    "c = 34.654\n",
    "d = (1,2,3,4)"
   ]
  },
  {
   "cell_type": "markdown",
   "id": "7870a7c4-ffde-4f9f-98f4-84e22c9cf715",
   "metadata": {},
   "source": [
    "**Q2.** Given are some following variables containing data:<br>\n",
    "(i) var1 = ‘ ‘<br>\n",
    "(ii) var2 = ‘[ DS , ML , Python]’<br>\n",
    "(iii) var3 = [ ‘DS’ , ’ML’ , ‘Python’ ]<br>\n",
    "(iv) var4 = 1.<br>\n",
    "What will be the data type of the above given variable."
   ]
  },
  {
   "cell_type": "markdown",
   "id": "b5f97fe8-d531-49b7-81f8-acab0048d37b",
   "metadata": {},
   "source": [
    "**Solution-2**"
   ]
  },
  {
   "cell_type": "code",
   "execution_count": 3,
   "id": "2c477802-815a-4ebc-a5fb-cd48bfed18e3",
   "metadata": {},
   "outputs": [],
   "source": [
    "var1 = ' '\n",
    "var2 = '[ DS , ML , Python]'\n",
    "var3 = [ 'DS' , 'ML' , 'Python' ]\n",
    "var4 = 1."
   ]
  },
  {
   "cell_type": "code",
   "execution_count": 6,
   "id": "0ee2f448-5cae-46d2-a1b0-da8154812dc9",
   "metadata": {},
   "outputs": [
    {
     "data": {
      "text/plain": [
       "str"
      ]
     },
     "execution_count": 6,
     "metadata": {},
     "output_type": "execute_result"
    }
   ],
   "source": [
    "type(var1)"
   ]
  },
  {
   "cell_type": "code",
   "execution_count": 7,
   "id": "4d448e33-84e9-403a-abdb-a1a0a28cb6c9",
   "metadata": {},
   "outputs": [
    {
     "data": {
      "text/plain": [
       "str"
      ]
     },
     "execution_count": 7,
     "metadata": {},
     "output_type": "execute_result"
    }
   ],
   "source": [
    "type(var2)"
   ]
  },
  {
   "cell_type": "code",
   "execution_count": 8,
   "id": "7f25a93f-bd81-4a17-8bb0-5baf08997a06",
   "metadata": {},
   "outputs": [
    {
     "data": {
      "text/plain": [
       "list"
      ]
     },
     "execution_count": 8,
     "metadata": {},
     "output_type": "execute_result"
    }
   ],
   "source": [
    "type(var3)"
   ]
  },
  {
   "cell_type": "code",
   "execution_count": 9,
   "id": "59b57491-8379-4409-a220-246a85be90d0",
   "metadata": {},
   "outputs": [
    {
     "data": {
      "text/plain": [
       "float"
      ]
     },
     "execution_count": 9,
     "metadata": {},
     "output_type": "execute_result"
    }
   ],
   "source": [
    "type(var4)"
   ]
  },
  {
   "cell_type": "markdown",
   "id": "a2ed0f37-c27e-4216-a1bb-3f94850dac57",
   "metadata": {},
   "source": [
    "The data type of following variables are:<br>\n",
    "(i) var1 : string<br>\n",
    "(ii) var2 : string<br>\n",
    "(iii) var3 : list<br>\n",
    "(iv) var4 : float<br>"
   ]
  },
  {
   "cell_type": "markdown",
   "id": "be695597-d44a-40c5-bfa6-c1216b95dfd2",
   "metadata": {},
   "source": [
    "**Q3.** Explain the use of the following operators using an example:<br>\n",
    "(i) /<br>\n",
    "(ii) %<br>\n",
    "(iii) //<br>\n",
    "(iv) **<br>"
   ]
  },
  {
   "cell_type": "markdown",
   "id": "9ce0be36-8368-4b65-ba01-6847cefbf93f",
   "metadata": {},
   "source": [
    "**Solution-3**"
   ]
  },
  {
   "cell_type": "markdown",
   "id": "67a8239b-0082-41aa-8000-12901970f7f2",
   "metadata": {},
   "source": [
    "(i) / is the division operator used for divinding two operands.<br>\n",
    "for ex:"
   ]
  },
  {
   "cell_type": "code",
   "execution_count": 11,
   "id": "89fd2212-17a5-432e-8357-2d8f7de99282",
   "metadata": {},
   "outputs": [
    {
     "data": {
      "text/plain": [
       "18.0"
      ]
     },
     "execution_count": 11,
     "metadata": {},
     "output_type": "execute_result"
    }
   ],
   "source": [
    "54/3"
   ]
  },
  {
   "cell_type": "markdown",
   "id": "3ae7bb20-2af7-4a67-a19e-b2a5fc3f3cff",
   "metadata": {},
   "source": [
    "(ii) % is the modulus operator used for getting remainder remaining after the division between two operands.<br>\n",
    "for ex:"
   ]
  },
  {
   "cell_type": "code",
   "execution_count": 12,
   "id": "e2a8fad3-7b38-4a83-b8b1-9615e76261c5",
   "metadata": {},
   "outputs": [
    {
     "data": {
      "text/plain": [
       "1"
      ]
     },
     "execution_count": 12,
     "metadata": {},
     "output_type": "execute_result"
    }
   ],
   "source": [
    "45%4"
   ]
  },
  {
   "cell_type": "markdown",
   "id": "5eda6fec-9ead-404d-9883-7e21701f7cdb",
   "metadata": {},
   "source": [
    "(iii) // is the floor division operator that returns the value rounded off to the nearest integer after divison.<br>\n",
    "for ex:"
   ]
  },
  {
   "cell_type": "code",
   "execution_count": 16,
   "id": "fbe6b0b1-8514-44d0-9e27-3f67df4a7e0f",
   "metadata": {},
   "outputs": [
    {
     "data": {
      "text/plain": [
       "4"
      ]
     },
     "execution_count": 16,
     "metadata": {},
     "output_type": "execute_result"
    }
   ],
   "source": [
    "9//2"
   ]
  },
  {
   "cell_type": "markdown",
   "id": "68ec1155-0ed6-4a58-909b-c8e1b93ae97b",
   "metadata": {},
   "source": [
    "(iv) ** is the exponent operator used to get the power of an 1st operand raised to 2nd operand.<br>\n",
    "for ex:"
   ]
  },
  {
   "cell_type": "code",
   "execution_count": 17,
   "id": "4f047791-c007-43dd-a39c-1d752ef02b13",
   "metadata": {},
   "outputs": [
    {
     "data": {
      "text/plain": [
       "8000"
      ]
     },
     "execution_count": 17,
     "metadata": {},
     "output_type": "execute_result"
    }
   ],
   "source": [
    "20**3"
   ]
  },
  {
   "cell_type": "markdown",
   "id": "a92c79a5-6534-4a52-911a-fae00b41b9c8",
   "metadata": {},
   "source": [
    "**Q4.** Create a list of length 10 of your choice containing multiple types of data. Using for loop print the\n",
    "element and its data type."
   ]
  },
  {
   "cell_type": "markdown",
   "id": "f0ecf579-e411-4f3a-bc8c-d07fd7e87548",
   "metadata": {},
   "source": [
    "**Solution-4**"
   ]
  },
  {
   "cell_type": "code",
   "execution_count": 18,
   "id": "d704a799-436d-4a19-ba29-195868a15d22",
   "metadata": {},
   "outputs": [],
   "source": [
    "l = [1,2,3,4,5,\"hello\",\"India\",45.3,61.986,False]"
   ]
  },
  {
   "cell_type": "code",
   "execution_count": 21,
   "id": "df65193d-6e5f-4bf1-b5a7-6e63c78395ba",
   "metadata": {},
   "outputs": [
    {
     "name": "stdout",
     "output_type": "stream",
     "text": [
      "The type of element 1 is : <class 'int'>\n",
      "The type of element 2 is : <class 'int'>\n",
      "The type of element 3 is : <class 'int'>\n",
      "The type of element 4 is : <class 'int'>\n",
      "The type of element 5 is : <class 'int'>\n",
      "The type of element hello is : <class 'str'>\n",
      "The type of element India is : <class 'str'>\n",
      "The type of element 45.3 is : <class 'float'>\n",
      "The type of element 61.986 is : <class 'float'>\n",
      "The type of element False is : <class 'bool'>\n"
     ]
    }
   ],
   "source": [
    "for i in l:\n",
    "    print('The type of element',i,'is :', type(i))"
   ]
  },
  {
   "cell_type": "markdown",
   "id": "03006ef7-a4c0-4b0a-a446-9e31f350e13e",
   "metadata": {},
   "source": [
    "**Q5.** Using a while loop, verify if the number A is purely divisible by number B and if so then how many\n",
    "times it can be divisible."
   ]
  },
  {
   "cell_type": "markdown",
   "id": "dafbdfdb-713a-4948-b420-17c501819e95",
   "metadata": {},
   "source": [
    "**Solution-5**"
   ]
  },
  {
   "cell_type": "code",
   "execution_count": 20,
   "id": "76d22030-e986-4228-91ed-d77a8c63067c",
   "metadata": {},
   "outputs": [
    {
     "name": "stdin",
     "output_type": "stream",
     "text": [
      "Enter first number:  256\n",
      "Enter second number:  2\n"
     ]
    },
    {
     "name": "stdout",
     "output_type": "stream",
     "text": [
      "256 is purely divisible by 2\n",
      "No. of times it is divisible 2 is 8 times.\n"
     ]
    }
   ],
   "source": [
    "a = int(input(\"Enter first number: \"))\n",
    "b = int(input(\"Enter second number: \"))\n",
    "count = 0\n",
    "if a % b == 0:\n",
    "    print(a, \"is purely divisible by\", b)\n",
    "    while a % b == 0:\n",
    "        a = a // b\n",
    "        count += 1\n",
    "else:\n",
    "    print(a, \"is not purely divisible by\", b)\n",
    "print(\"No. of times it is divisible\", b, \"is\", count, \"times.\")"
   ]
  },
  {
   "cell_type": "markdown",
   "id": "6b23fd75-59f5-4750-a44c-cd733f370585",
   "metadata": {},
   "source": [
    "**Q6.** Create a list containing 25 int type data. Using for loop and if-else condition print if the element is\n",
    "divisible by 3 or not."
   ]
  },
  {
   "cell_type": "markdown",
   "id": "752eeaec-d91a-4274-8703-239909084a74",
   "metadata": {},
   "source": [
    "**Solution-6**"
   ]
  },
  {
   "cell_type": "code",
   "execution_count": 4,
   "id": "b60e547a-188c-4a46-99ca-ba3ccd768b6b",
   "metadata": {},
   "outputs": [],
   "source": [
    "l1 = [23,12,54,23,76,342,64,324,513,65,386,985,45,64,86,63,551,81,329,5448,3,69,90,41,75]"
   ]
  },
  {
   "cell_type": "code",
   "execution_count": 6,
   "id": "2764f1c8-8cae-4b73-949f-3f12cb421079",
   "metadata": {},
   "outputs": [
    {
     "name": "stdout",
     "output_type": "stream",
     "text": [
      "23 is not divisible by 3\n",
      "12 is divisible by 3\n",
      "54 is divisible by 3\n",
      "23 is not divisible by 3\n",
      "76 is not divisible by 3\n",
      "342 is divisible by 3\n",
      "64 is not divisible by 3\n",
      "324 is divisible by 3\n",
      "513 is divisible by 3\n",
      "65 is not divisible by 3\n",
      "386 is not divisible by 3\n",
      "985 is not divisible by 3\n",
      "45 is divisible by 3\n",
      "64 is not divisible by 3\n",
      "86 is not divisible by 3\n",
      "63 is divisible by 3\n",
      "551 is not divisible by 3\n",
      "81 is divisible by 3\n",
      "329 is not divisible by 3\n",
      "5448 is divisible by 3\n",
      "3 is divisible by 3\n",
      "69 is divisible by 3\n",
      "90 is divisible by 3\n",
      "41 is not divisible by 3\n",
      "75 is divisible by 3\n"
     ]
    }
   ],
   "source": [
    "for i in l1:\n",
    "    if i%3 == 0:\n",
    "        print(i,\"is divisible by 3\")\n",
    "    else:\n",
    "        print(i,\"is not divisible by 3\")"
   ]
  },
  {
   "cell_type": "markdown",
   "id": "3e8296f8-fb74-4018-aa57-a05f72acdc7d",
   "metadata": {},
   "source": [
    "**Q7.** What do you understand about mutable and immutable data types? Give examples for both showing\n",
    "this property."
   ]
  },
  {
   "cell_type": "markdown",
   "id": "d9b5398f-b049-472d-a2c3-e0b1074e0033",
   "metadata": {},
   "source": [
    "**Solution-7**"
   ]
  },
  {
   "cell_type": "markdown",
   "id": "5e433da1-31a9-4c77-bfb8-99880b78a92a",
   "metadata": {},
   "source": [
    "**Mutable Data Types** Mutable data types are those whose values can be changed or modified after they are created. For example: Lists, Dictionaries, etc.<br>\n",
    "**Imutable Data Types** Imutable data types are those whose values cannot be changed or modified after they are created. For example: Strings, Tuples, etc."
   ]
  },
  {
   "cell_type": "markdown",
   "id": "cb547d89-136d-452b-b5f5-76610bef917d",
   "metadata": {},
   "source": [
    "*Showing this property using an example of list and string*"
   ]
  },
  {
   "cell_type": "markdown",
   "id": "5095d190-dc34-4c5f-81fd-61732c10c1f8",
   "metadata": {},
   "source": [
    "**List:**"
   ]
  },
  {
   "cell_type": "code",
   "execution_count": 11,
   "id": "089a84d2-e312-4371-98ff-8c05a8621752",
   "metadata": {},
   "outputs": [],
   "source": [
    "l2 = [2,3,4,5,\"hello\",4.65,True]"
   ]
  },
  {
   "cell_type": "markdown",
   "id": "58de43bd-1fe2-40b0-bdd7-1f05a95a2c5f",
   "metadata": {},
   "source": [
    "Extracting 3rd element of list l2"
   ]
  },
  {
   "cell_type": "code",
   "execution_count": 12,
   "id": "32e7d1d5-9a2a-47f6-a784-872266e0b668",
   "metadata": {},
   "outputs": [
    {
     "data": {
      "text/plain": [
       "4"
      ]
     },
     "execution_count": 12,
     "metadata": {},
     "output_type": "execute_result"
    }
   ],
   "source": [
    "l2[2]"
   ]
  },
  {
   "cell_type": "markdown",
   "id": "24b14e5f-3221-402f-913a-6e7e5e991cce",
   "metadata": {},
   "source": [
    "Changing 3rd elements value to 7"
   ]
  },
  {
   "cell_type": "code",
   "execution_count": 13,
   "id": "5bae414b-8c8e-43fd-926b-cdf13173d285",
   "metadata": {},
   "outputs": [],
   "source": [
    "l2[2] = 7"
   ]
  },
  {
   "cell_type": "markdown",
   "id": "03117315-f7b8-4196-b290-3a987b6f2fca",
   "metadata": {},
   "source": [
    "Printing list l2 to check whether the changes are done or not"
   ]
  },
  {
   "cell_type": "code",
   "execution_count": 18,
   "id": "4f077035-406f-40ad-86ff-bb816155f71e",
   "metadata": {},
   "outputs": [
    {
     "data": {
      "text/plain": [
       "[2, 3, 7, 5, 'hello', 4.65, True]"
      ]
     },
     "execution_count": 18,
     "metadata": {},
     "output_type": "execute_result"
    }
   ],
   "source": [
    "l2"
   ]
  },
  {
   "cell_type": "markdown",
   "id": "4b1b7e3e-c80d-480e-9984-cf0d99cf963d",
   "metadata": {},
   "source": [
    "**The elements of a list can be changed or modified. Hence it ia a mutable data type.**"
   ]
  },
  {
   "cell_type": "markdown",
   "id": "9ef9c4a9-58b0-43da-bd65-6058786bab04",
   "metadata": {},
   "source": [
    "**String:**"
   ]
  },
  {
   "cell_type": "code",
   "execution_count": 15,
   "id": "43ced7d1-bb48-4815-880e-7516df0488fb",
   "metadata": {},
   "outputs": [],
   "source": [
    "s = \"hello\""
   ]
  },
  {
   "cell_type": "markdown",
   "id": "c73d3a38-3676-4e46-acf3-ccf73e9769f9",
   "metadata": {},
   "source": [
    "Extracting 3rd element of string s"
   ]
  },
  {
   "cell_type": "code",
   "execution_count": 16,
   "id": "0e22ab2e-d590-4330-b076-2fbf87c9d827",
   "metadata": {},
   "outputs": [
    {
     "data": {
      "text/plain": [
       "'l'"
      ]
     },
     "execution_count": 16,
     "metadata": {},
     "output_type": "execute_result"
    }
   ],
   "source": [
    "s[2]"
   ]
  },
  {
   "cell_type": "markdown",
   "id": "6bbe8641-95ad-4363-8bc8-8fdfef13f74f",
   "metadata": {},
   "source": [
    "Changing 3rd element of string s to 'p'"
   ]
  },
  {
   "cell_type": "code",
   "execution_count": 17,
   "id": "96fb2142-9087-4343-95c8-8cac77bf7afa",
   "metadata": {},
   "outputs": [
    {
     "ename": "TypeError",
     "evalue": "'str' object does not support item assignment",
     "output_type": "error",
     "traceback": [
      "\u001b[0;31m---------------------------------------------------------------------------\u001b[0m",
      "\u001b[0;31mTypeError\u001b[0m                                 Traceback (most recent call last)",
      "Cell \u001b[0;32mIn[17], line 1\u001b[0m\n\u001b[0;32m----> 1\u001b[0m \u001b[43ms\u001b[49m\u001b[43m[\u001b[49m\u001b[38;5;241;43m2\u001b[39;49m\u001b[43m]\u001b[49m \u001b[38;5;241m=\u001b[39m \u001b[38;5;124m'\u001b[39m\u001b[38;5;124mp\u001b[39m\u001b[38;5;124m'\u001b[39m\n",
      "\u001b[0;31mTypeError\u001b[0m: 'str' object does not support item assignment"
     ]
    }
   ],
   "source": [
    "s[2] = 'p'"
   ]
  },
  {
   "cell_type": "markdown",
   "id": "ae0c4aa2-f717-4d35-bab9-15eccd0f7182",
   "metadata": {},
   "source": [
    "**The elements of a string cannot be changed or modified. Hence it is an imutable data type.**"
   ]
  }
 ],
 "metadata": {
  "kernelspec": {
   "display_name": "Python 3 (ipykernel)",
   "language": "python",
   "name": "python3"
  },
  "language_info": {
   "codemirror_mode": {
    "name": "ipython",
    "version": 3
   },
   "file_extension": ".py",
   "mimetype": "text/x-python",
   "name": "python",
   "nbconvert_exporter": "python",
   "pygments_lexer": "ipython3",
   "version": "3.10.8"
  }
 },
 "nbformat": 4,
 "nbformat_minor": 5
}
